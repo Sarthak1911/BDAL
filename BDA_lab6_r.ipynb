{
  "nbformat": 4,
  "nbformat_minor": 0,
  "metadata": {
    "colab": {
      "provenance": []
    },
    "kernelspec": {
      "name": "ir",
      "display_name": "R"
    },
    "language_info": {
      "name": "R"
    }
  },
  "cells": [
    {
      "cell_type": "code",
      "execution_count": null,
      "metadata": {
        "id": "xXEF5kBlrL5w"
      },
      "outputs": [],
      "source": [
        "#To compute TF-IDF (Term Frequency-Inverse Document Frequency)\n",
        "#values of words from different\n",
        "#types of corpora using R programming. The analysis will include:"
      ]
    },
    {
      "cell_type": "code",
      "source": [
        "#Install the necessary packages.\n",
        "if(!require(tm)){install.packages(\"tm\")}\n",
        "if(!require(tidytext)){install.packages(\"tidytext\")}\n",
        "if(!require(dplyr)){install.packages(\"dplyr\")}\n",
        "\n",
        "#Load the necessary libraries:\n",
        "library(tm)\n",
        "library(tidytext)\n",
        "library(dplyr)"
      ],
      "metadata": {
        "colab": {
          "base_uri": "https://localhost:8080/"
        },
        "collapsed": true,
        "id": "LOvaZXM2rWOE",
        "outputId": "d47e2bce-6d93-44eb-a502-3a3120e03fb7"
      },
      "execution_count": null,
      "outputs": [
        {
          "output_type": "stream",
          "name": "stderr",
          "text": [
            "Loading required package: tm\n",
            "\n",
            "Warning message in library(package, lib.loc = lib.loc, character.only = TRUE, logical.return = TRUE, :\n",
            "“there is no package called ‘tm’”\n",
            "Installing package into ‘/usr/local/lib/R/site-library’\n",
            "(as ‘lib’ is unspecified)\n",
            "\n",
            "also installing the dependencies ‘NLP’, ‘slam’, ‘BH’\n",
            "\n",
            "\n",
            "Loading required package: tidytext\n",
            "\n",
            "Warning message in library(package, lib.loc = lib.loc, character.only = TRUE, logical.return = TRUE, :\n",
            "“there is no package called ‘tidytext’”\n",
            "Installing package into ‘/usr/local/lib/R/site-library’\n",
            "(as ‘lib’ is unspecified)\n",
            "\n",
            "also installing the dependencies ‘SnowballC’, ‘janeaustenr’, ‘tokenizers’\n",
            "\n",
            "\n",
            "Loading required package: dplyr\n",
            "\n",
            "\n",
            "Attaching package: ‘dplyr’\n",
            "\n",
            "\n",
            "The following objects are masked from ‘package:stats’:\n",
            "\n",
            "    filter, lag\n",
            "\n",
            "\n",
            "The following objects are masked from ‘package:base’:\n",
            "\n",
            "    intersect, setdiff, setequal, union\n",
            "\n",
            "\n",
            "Loading required package: NLP\n",
            "\n"
          ]
        }
      ]
    },
    {
      "cell_type": "code",
      "source": [
        "#Create the corpora:\n",
        "# Corpus with unique values\n",
        "corpus_unique <- Corpus(VectorSource(c(\"apple banana cherry\", \"dog elephant fish\", \"grape hat\n",
        "ink\")))\n",
        "# Corpus with similar documents\n",
        "corpus_similar <- Corpus(VectorSource(c(\"apple apple banana\", \"apple banana cherry\", \"banana\n",
        "cherry apple\")))\n",
        "# Corpus with a single word repeated multiple times\n",
        "corpus_repeated <- Corpus(VectorSource(c(\"apple apple apple\", \"apple apple apple\", \"apple apple\n",
        "apple\")))"
      ],
      "metadata": {
        "id": "3BtHqFt7rwoL"
      },
      "execution_count": null,
      "outputs": []
    },
    {
      "cell_type": "code",
      "source": [
        "# Preprocess the text\n",
        "\n",
        "preprocess_corpus <- function(corpus) {\n",
        "  corpus <- tm_map(corpus, content_transformer(tolower))\n",
        "  corpus <- tm_map(corpus, removePunctuation)\n",
        "  corpus <- tm_map(corpus, removeNumbers)\n",
        "  corpus <- tm_map(corpus, removeWords, stopwords(\"english\"))\n",
        "  corpus <- tm_map(corpus, stripWhitespace)\n",
        "  return(corpus)\n",
        "}"
      ],
      "metadata": {
        "id": "bnV-ZaAGr_45"
      },
      "execution_count": null,
      "outputs": []
    },
    {
      "cell_type": "code",
      "source": [
        "#Create Document-Term Matrices and compute TF-IDF values:\n",
        "\n",
        "dtm_unique <- DocumentTermMatrix(corpus_unique)\n",
        "dtm_similar <- DocumentTermMatrix(corpus_similar)\n",
        "dtm_repeated <- DocumentTermMatrix(corpus_repeated)\n",
        "tfidf_unique <- weightTfIdf(dtm_unique)\n",
        "tfidf_similar <- weightTfIdf(dtm_similar)\n",
        "tfidf_repeated <- weightTfIdf(dtm_repeated)"
      ],
      "metadata": {
        "id": "RQwV2oK3sQn4"
      },
      "execution_count": null,
      "outputs": []
    },
    {
      "cell_type": "code",
      "source": [
        "#Convert to data frame for better readability:\n",
        "\n",
        "tfidf_to_df <- function(tfidf) {\n",
        "as.data.frame(as.matrix(tfidf))\n",
        "}\n",
        "df_tfidf_unique <- tfidf_to_df(tfidf_unique)\n",
        "df_tfidf_similar <- tfidf_to_df(tfidf_similar)\n",
        "df_tfidf_repeated <- tfidf_to_df(tfidf_repeated)\n",
        "df_tfidf_unique\n",
        "df_tfidf_similar\n",
        "df_tfidf_repeated"
      ],
      "metadata": {
        "colab": {
          "base_uri": "https://localhost:8080/",
          "height": 596
        },
        "id": "9ZxGzVc7sQqv",
        "outputId": "7b0c9f7b-6422-403f-d30c-aa918dc97e1b"
      },
      "execution_count": null,
      "outputs": [
        {
          "output_type": "display_data",
          "data": {
            "text/html": [
              "<table class=\"dataframe\">\n",
              "<caption>A data.frame: 3 × 9</caption>\n",
              "<thead>\n",
              "\t<tr><th></th><th scope=col>apple</th><th scope=col>banana</th><th scope=col>cherry</th><th scope=col>dog</th><th scope=col>elephant</th><th scope=col>fish</th><th scope=col>grape</th><th scope=col>hat</th><th scope=col>ink</th></tr>\n",
              "\t<tr><th></th><th scope=col>&lt;dbl&gt;</th><th scope=col>&lt;dbl&gt;</th><th scope=col>&lt;dbl&gt;</th><th scope=col>&lt;dbl&gt;</th><th scope=col>&lt;dbl&gt;</th><th scope=col>&lt;dbl&gt;</th><th scope=col>&lt;dbl&gt;</th><th scope=col>&lt;dbl&gt;</th><th scope=col>&lt;dbl&gt;</th></tr>\n",
              "</thead>\n",
              "<tbody>\n",
              "\t<tr><th scope=row>1</th><td>0.5283208</td><td>0.5283208</td><td>0.5283208</td><td>0.0000000</td><td>0.0000000</td><td>0.0000000</td><td>0.0000000</td><td>0.0000000</td><td>0.0000000</td></tr>\n",
              "\t<tr><th scope=row>2</th><td>0.0000000</td><td>0.0000000</td><td>0.0000000</td><td>0.5283208</td><td>0.5283208</td><td>0.5283208</td><td>0.0000000</td><td>0.0000000</td><td>0.0000000</td></tr>\n",
              "\t<tr><th scope=row>3</th><td>0.0000000</td><td>0.0000000</td><td>0.0000000</td><td>0.0000000</td><td>0.0000000</td><td>0.0000000</td><td>0.5283208</td><td>0.5283208</td><td>0.5283208</td></tr>\n",
              "</tbody>\n",
              "</table>\n"
            ],
            "text/markdown": "\nA data.frame: 3 × 9\n\n| <!--/--> | apple &lt;dbl&gt; | banana &lt;dbl&gt; | cherry &lt;dbl&gt; | dog &lt;dbl&gt; | elephant &lt;dbl&gt; | fish &lt;dbl&gt; | grape &lt;dbl&gt; | hat &lt;dbl&gt; | ink &lt;dbl&gt; |\n|---|---|---|---|---|---|---|---|---|---|\n| 1 | 0.5283208 | 0.5283208 | 0.5283208 | 0.0000000 | 0.0000000 | 0.0000000 | 0.0000000 | 0.0000000 | 0.0000000 |\n| 2 | 0.0000000 | 0.0000000 | 0.0000000 | 0.5283208 | 0.5283208 | 0.5283208 | 0.0000000 | 0.0000000 | 0.0000000 |\n| 3 | 0.0000000 | 0.0000000 | 0.0000000 | 0.0000000 | 0.0000000 | 0.0000000 | 0.5283208 | 0.5283208 | 0.5283208 |\n\n",
            "text/latex": "A data.frame: 3 × 9\n\\begin{tabular}{r|lllllllll}\n  & apple & banana & cherry & dog & elephant & fish & grape & hat & ink\\\\\n  & <dbl> & <dbl> & <dbl> & <dbl> & <dbl> & <dbl> & <dbl> & <dbl> & <dbl>\\\\\n\\hline\n\t1 & 0.5283208 & 0.5283208 & 0.5283208 & 0.0000000 & 0.0000000 & 0.0000000 & 0.0000000 & 0.0000000 & 0.0000000\\\\\n\t2 & 0.0000000 & 0.0000000 & 0.0000000 & 0.5283208 & 0.5283208 & 0.5283208 & 0.0000000 & 0.0000000 & 0.0000000\\\\\n\t3 & 0.0000000 & 0.0000000 & 0.0000000 & 0.0000000 & 0.0000000 & 0.0000000 & 0.5283208 & 0.5283208 & 0.5283208\\\\\n\\end{tabular}\n",
            "text/plain": [
              "  apple     banana    cherry    dog       elephant  fish      grape    \n",
              "1 0.5283208 0.5283208 0.5283208 0.0000000 0.0000000 0.0000000 0.0000000\n",
              "2 0.0000000 0.0000000 0.0000000 0.5283208 0.5283208 0.5283208 0.0000000\n",
              "3 0.0000000 0.0000000 0.0000000 0.0000000 0.0000000 0.0000000 0.5283208\n",
              "  hat       ink      \n",
              "1 0.0000000 0.0000000\n",
              "2 0.0000000 0.0000000\n",
              "3 0.5283208 0.5283208"
            ]
          },
          "metadata": {}
        },
        {
          "output_type": "display_data",
          "data": {
            "text/html": [
              "<table class=\"dataframe\">\n",
              "<caption>A data.frame: 3 × 3</caption>\n",
              "<thead>\n",
              "\t<tr><th></th><th scope=col>apple</th><th scope=col>banana</th><th scope=col>cherry</th></tr>\n",
              "\t<tr><th></th><th scope=col>&lt;dbl&gt;</th><th scope=col>&lt;dbl&gt;</th><th scope=col>&lt;dbl&gt;</th></tr>\n",
              "</thead>\n",
              "<tbody>\n",
              "\t<tr><th scope=row>1</th><td>0</td><td>0</td><td>0.0000000</td></tr>\n",
              "\t<tr><th scope=row>2</th><td>0</td><td>0</td><td>0.1949875</td></tr>\n",
              "\t<tr><th scope=row>3</th><td>0</td><td>0</td><td>0.1949875</td></tr>\n",
              "</tbody>\n",
              "</table>\n"
            ],
            "text/markdown": "\nA data.frame: 3 × 3\n\n| <!--/--> | apple &lt;dbl&gt; | banana &lt;dbl&gt; | cherry &lt;dbl&gt; |\n|---|---|---|---|\n| 1 | 0 | 0 | 0.0000000 |\n| 2 | 0 | 0 | 0.1949875 |\n| 3 | 0 | 0 | 0.1949875 |\n\n",
            "text/latex": "A data.frame: 3 × 3\n\\begin{tabular}{r|lll}\n  & apple & banana & cherry\\\\\n  & <dbl> & <dbl> & <dbl>\\\\\n\\hline\n\t1 & 0 & 0 & 0.0000000\\\\\n\t2 & 0 & 0 & 0.1949875\\\\\n\t3 & 0 & 0 & 0.1949875\\\\\n\\end{tabular}\n",
            "text/plain": [
              "  apple banana cherry   \n",
              "1 0     0      0.0000000\n",
              "2 0     0      0.1949875\n",
              "3 0     0      0.1949875"
            ]
          },
          "metadata": {}
        },
        {
          "output_type": "display_data",
          "data": {
            "text/html": [
              "<table class=\"dataframe\">\n",
              "<caption>A data.frame: 3 × 1</caption>\n",
              "<thead>\n",
              "\t<tr><th></th><th scope=col>apple</th></tr>\n",
              "\t<tr><th></th><th scope=col>&lt;dbl&gt;</th></tr>\n",
              "</thead>\n",
              "<tbody>\n",
              "\t<tr><th scope=row>1</th><td>0</td></tr>\n",
              "\t<tr><th scope=row>2</th><td>0</td></tr>\n",
              "\t<tr><th scope=row>3</th><td>0</td></tr>\n",
              "</tbody>\n",
              "</table>\n"
            ],
            "text/markdown": "\nA data.frame: 3 × 1\n\n| <!--/--> | apple &lt;dbl&gt; |\n|---|---|\n| 1 | 0 |\n| 2 | 0 |\n| 3 | 0 |\n\n",
            "text/latex": "A data.frame: 3 × 1\n\\begin{tabular}{r|l}\n  & apple\\\\\n  & <dbl>\\\\\n\\hline\n\t1 & 0\\\\\n\t2 & 0\\\\\n\t3 & 0\\\\\n\\end{tabular}\n",
            "text/plain": [
              "  apple\n",
              "1 0    \n",
              "2 0    \n",
              "3 0    "
            ]
          },
          "metadata": {}
        }
      ]
    },
    {
      "cell_type": "code",
      "source": [],
      "metadata": {
        "id": "kdzuNi8-sQsz"
      },
      "execution_count": null,
      "outputs": []
    }
  ]
}