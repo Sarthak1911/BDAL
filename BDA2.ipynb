{
  "nbformat": 4,
  "nbformat_minor": 0,
  "metadata": {
    "colab": {
      "provenance": []
    },
    "kernelspec": {
      "name": "ir",
      "display_name": "R"
    },
    "language_info": {
      "name": "R"
    }
  },
  "cells": [
    {
      "cell_type": "code",
      "execution_count": 2,
      "metadata": {
        "colab": {
          "base_uri": "https://localhost:8080/"
        },
        "id": "IIvPY4wCgRx7",
        "outputId": "a7d49aec-34c2-43b8-f3f9-4dfedf4e499d"
      },
      "outputs": [
        {
          "output_type": "stream",
          "name": "stderr",
          "text": [
            "Installing package into ‘/usr/local/lib/R/site-library’\n",
            "(as ‘lib’ is unspecified)\n",
            "\n",
            "also installing the dependencies ‘NLP’, ‘slam’, ‘BH’\n",
            "\n",
            "\n",
            "Installing package into ‘/usr/local/lib/R/site-library’\n",
            "(as ‘lib’ is unspecified)\n",
            "\n",
            "Installing package into ‘/usr/local/lib/R/site-library’\n",
            "(as ‘lib’ is unspecified)\n",
            "\n",
            "Installing package into ‘/usr/local/lib/R/site-library’\n",
            "(as ‘lib’ is unspecified)\n",
            "\n"
          ]
        }
      ],
      "source": [
        "install.packages(\"tm\")\n",
        "install.packages(\"SnowballC\")\n",
        "install.packages(\"wordcloud\")\n",
        "install.packages(\"ggplot2\")\n"
      ]
    },
    {
      "cell_type": "code",
      "source": [
        "library(\"tm\")\n",
        "library(\"SnowballC\")\n",
        "library(\"wordcloud\")\n",
        "library(\"ggplot2\")"
      ],
      "metadata": {
        "colab": {
          "base_uri": "https://localhost:8080/"
        },
        "id": "_yhJXe2qh69L",
        "outputId": "43bb18ca-4845-47bc-bfb4-66b60d236bbc"
      },
      "execution_count": 4,
      "outputs": [
        {
          "output_type": "stream",
          "name": "stderr",
          "text": [
            "Loading required package: NLP\n",
            "\n",
            "Loading required package: RColorBrewer\n",
            "\n",
            "\n",
            "Attaching package: ‘ggplot2’\n",
            "\n",
            "\n",
            "The following object is masked from ‘package:NLP’:\n",
            "\n",
            "    annotate\n",
            "\n",
            "\n"
          ]
        }
      ]
    },
    {
      "cell_type": "code",
      "source": [
        "documents <- c(\n",
        "\"Data analysis is fun.\",\n",
        "\"Text analysis is a subset of data analysis.\",\n",
        "\"Visualization makes analysis easier to understand.\",\n",
        "\"Visualization makes analysis fun to understand.\",\n",
        "\"Data analysis is fun.\",\n",
        "\"Text analysis is a subset of text analysis.\",\n",
        "\"Visualization makes analysis easier to understand.\",\n",
        "\"Visualization makes analysis fun to understand.\",\n",
        "\"Data analysis is fun.\",\n",
        "\"Text analysis is a subset of data analysis.\",\n",
        "\"Visualization makes analysis easier to understand.\",\n",
        "\"Visualization makes analysis fun to understand.\"\n",
        ")"
      ],
      "metadata": {
        "id": "-swEmet1iTIL"
      },
      "execution_count": 5,
      "outputs": []
    },
    {
      "cell_type": "code",
      "source": [
        "corpus <- Corpus(VectorSource(documents))"
      ],
      "metadata": {
        "id": "hQVM3xeqij0N"
      },
      "execution_count": 6,
      "outputs": []
    },
    {
      "cell_type": "code",
      "source": [
        "corpus <- tm_map(corpus, content_transformer(tolower))\n",
        "corpus <- tm_map(corpus, removePunctuation)\n",
        "corpus <- tm_map(corpus, removeNumbers)\n",
        "corpus <- tm_map(corpus, removeWords, stopwords(\"english\"))\n",
        "corpus <- tm_map(corpus, stripWhitespace)"
      ],
      "metadata": {
        "colab": {
          "base_uri": "https://localhost:8080/"
        },
        "id": "W2HsH4CUipUi",
        "outputId": "b03020fb-79d1-4d12-8d30-8385714cd2cb"
      },
      "execution_count": 7,
      "outputs": [
        {
          "output_type": "stream",
          "name": "stderr",
          "text": [
            "Warning message in tm_map.SimpleCorpus(corpus, content_transformer(tolower)):\n",
            "“transformation drops documents”\n",
            "Warning message in tm_map.SimpleCorpus(corpus, removePunctuation):\n",
            "“transformation drops documents”\n",
            "Warning message in tm_map.SimpleCorpus(corpus, removeNumbers):\n",
            "“transformation drops documents”\n",
            "Warning message in tm_map.SimpleCorpus(corpus, removeWords, stopwords(\"english\")):\n",
            "“transformation drops documents”\n",
            "Warning message in tm_map.SimpleCorpus(corpus, stripWhitespace):\n",
            "“transformation drops documents”\n"
          ]
        }
      ]
    },
    {
      "cell_type": "code",
      "source": [
        "corpus"
      ],
      "metadata": {
        "colab": {
          "base_uri": "https://localhost:8080/",
          "height": 69
        },
        "id": "h4uAl18njEwO",
        "outputId": "02831eb1-fb0b-49fc-b79c-3271c971eec3"
      },
      "execution_count": 8,
      "outputs": [
        {
          "output_type": "display_data",
          "data": {
            "text/plain": [
              "<<SimpleCorpus>>\n",
              "Metadata:  corpus specific: 1, document level (indexed): 0\n",
              "Content:  documents: 12"
            ]
          },
          "metadata": {}
        }
      ]
    },
    {
      "cell_type": "code",
      "source": [
        "tdm <- TermDocumentMatrix(corpus)"
      ],
      "metadata": {
        "id": "8GHoeJK-jH22"
      },
      "execution_count": 9,
      "outputs": []
    },
    {
      "cell_type": "code",
      "source": [
        "tdm_matrix <- as.matrix(tdm)"
      ],
      "metadata": {
        "id": "CnjdrpAijQBA"
      },
      "execution_count": 10,
      "outputs": []
    },
    {
      "cell_type": "code",
      "source": [
        "word_freq <- sort(rowSums(tdm_matrix), decreasing = TRUE)"
      ],
      "metadata": {
        "id": "V82X_INgjVBR"
      },
      "execution_count": 11,
      "outputs": []
    },
    {
      "cell_type": "code",
      "source": [
        "print(\"Term Frequency Matrix:\")\n",
        "print(tdm_matrix)"
      ],
      "metadata": {
        "colab": {
          "base_uri": "https://localhost:8080/"
        },
        "id": "GpBzwJ6CqmyJ",
        "outputId": "89268ff7-57a9-4b92-d39d-f1aee27a24b2"
      },
      "execution_count": 12,
      "outputs": [
        {
          "output_type": "stream",
          "name": "stdout",
          "text": [
            "[1] \"Term Frequency Matrix:\"\n",
            "               Docs\n",
            "Terms           1 2 3 4 5 6 7 8 9 10 11 12\n",
            "  analysis      1 2 1 1 1 2 1 1 1  2  1  1\n",
            "  data          1 1 0 0 1 0 0 0 1  1  0  0\n",
            "  fun           1 0 0 1 1 0 0 1 1  0  0  1\n",
            "  subset        0 1 0 0 0 1 0 0 0  1  0  0\n",
            "  text          0 1 0 0 0 2 0 0 0  1  0  0\n",
            "  easier        0 0 1 0 0 0 1 0 0  0  1  0\n",
            "  makes         0 0 1 1 0 0 1 1 0  0  1  1\n",
            "  understand    0 0 1 1 0 0 1 1 0  0  1  1\n",
            "  visualization 0 0 1 1 0 0 1 1 0  0  1  1\n"
          ]
        }
      ]
    },
    {
      "cell_type": "code",
      "source": [
        "wordcloud(names(word_freq), freq = word_freq, min.freq = 1)"
      ],
      "metadata": {
        "colab": {
          "base_uri": "https://localhost:8080/",
          "height": 437
        },
        "id": "l_3hNLW3qp89",
        "outputId": "919aa442-3825-4c65-9afd-ba30309c1f31"
      },
      "execution_count": 13,
      "outputs": [
        {
          "output_type": "display_data",
          "data": {
            "text/plain": [
              "plot without title"
            ],
            "image/png": "[encoded data removed]"
          },
          "metadata": {
            "image/png": {
              "width": 420,
              "height": 420
            }
          }
        }
      ]
    },
    {
      "cell_type": "code",
      "source": [
        "top_5_words <- head(word_freq, 5)"
      ],
      "metadata": {
        "id": "jV0d9lklrNIW"
      },
      "execution_count": 14,
      "outputs": []
    },
    {
      "cell_type": "code",
      "source": [
        "top_5_words_df <- data.frame(\n",
        "Word = names(top_5_words),\n",
        "Frequency = top_5_words\n",
        ")"
      ],
      "metadata": {
        "id": "fRAFbwzGrPnY"
      },
      "execution_count": 15,
      "outputs": []
    },
    {
      "cell_type": "code",
      "source": [
        "ggplot(top_5_words_df, aes(x = Word, y = Frequency, fill = Word)) +\n",
        "geom_bar(stat = \"identity\") +\n",
        "labs(title = \"Top 5 Frequent Words\", x = \"Words\", y = \"Frequency\") +\n",
        "theme_minimal() +\n",
        "scale_fill_manual(values = c(\"skyblue\", \"orange\", \"green\", \"red\", \"purple\"))"
      ],
      "metadata": {
        "colab": {
          "base_uri": "https://localhost:8080/",
          "height": 437
        },
        "id": "8dfs_BdarSFn",
        "outputId": "5b32a430-d640-4faf-8b02-94acc5eea0f5"
      },
      "execution_count": 16,
      "outputs": [
        {
          "output_type": "display_data",
          "data": {
            "text/plain": [
              "plot without title"
            ],
            "image/png": "[encoded data removed]"
          },
          "metadata": {
            "image/png": {
              "width": 420,
              "height": 420
            }
          }
        }
      ]
    },
    {
      "cell_type": "markdown",
      "source": [
        "Data analysis"
      ],
      "metadata": {
        "id": "IUhDivJDxnU0"
      }
    },
    {
      "cell_type": "code",
      "source": [
        "install.packages(\"dplyr\")"
      ],
      "metadata": {
        "colab": {
          "base_uri": "https://localhost:8080/"
        },
        "id": "3VDM5bK-xpW9",
        "outputId": "3e974e3c-be4d-4f24-cbf4-1699e792c450"
      },
      "execution_count": 17,
      "outputs": [
        {
          "output_type": "stream",
          "name": "stderr",
          "text": [
            "Installing package into ‘/usr/local/lib/R/site-library’\n",
            "(as ‘lib’ is unspecified)\n",
            "\n"
          ]
        }
      ]
    },
    {
      "cell_type": "code",
      "source": [
        "library(dplyr)"
      ],
      "metadata": {
        "colab": {
          "base_uri": "https://localhost:8080/"
        },
        "id": "zvTcyq2txyJy",
        "outputId": "cd9b00ba-1521-44f0-9707-d3186f19dda2"
      },
      "execution_count": 18,
      "outputs": [
        {
          "output_type": "stream",
          "name": "stderr",
          "text": [
            "\n",
            "Attaching package: ‘dplyr’\n",
            "\n",
            "\n",
            "The following objects are masked from ‘package:stats’:\n",
            "\n",
            "    filter, lag\n",
            "\n",
            "\n",
            "The following objects are masked from ‘package:base’:\n",
            "\n",
            "    intersect, setdiff, setequal, union\n",
            "\n",
            "\n"
          ]
        }
      ]
    },
    {
      "cell_type": "code",
      "source": [
        "data <- read.csv(\"titanic.csv\")"
      ],
      "metadata": {
        "id": "OHxZ2Jvdx3tL"
      },
      "execution_count": 19,
      "outputs": []
    },
    {
      "cell_type": "code",
      "source": [
        "str(data)"
      ],
      "metadata": {
        "colab": {
          "base_uri": "https://localhost:8080/"
        },
        "id": "mG2xFs-Px46A",
        "outputId": "3132b307-061f-4ce2-fe9e-5839af746462"
      },
      "execution_count": 20,
      "outputs": [
        {
          "output_type": "stream",
          "name": "stdout",
          "text": [
            "'data.frame':\t891 obs. of  12 variables:\n",
            " $ PassengerId: int  1 2 3 4 5 6 7 8 9 10 ...\n",
            " $ Name       : chr  \"Braund, Mr. Owen Harris\" \"Cumings, Mrs. John Bradley (Florence Briggs Thayer)\" \"Heikkinen, Miss. Laina\" \"Futrelle, Mrs. Jacques Heath (Lily May Peel)\" ...\n",
            " $ Pclass     : int  3 1 3 1 3 3 1 3 3 2 ...\n",
            " $ Sex        : chr  \"male\" \"female\" \"female\" \"female\" ...\n",
            " $ Age        : num  22 38 26 35 35 NA 54 2 27 14 ...\n",
            " $ SibSp      : int  1 1 0 1 0 0 0 3 0 1 ...\n",
            " $ Parch      : int  0 0 0 0 0 0 0 1 2 0 ...\n",
            " $ Ticket     : chr  \"A/5 21171\" \"PC 17599\" \"STON/O2. 3101282\" \"113803\" ...\n",
            " $ Fare       : num  7.25 71.28 7.92 53.1 8.05 ...\n",
            " $ Cabin      : chr  \"\" \"C85\" \"\" \"C123\" ...\n",
            " $ Embarked   : chr  \"S\" \"C\" \"S\" \"S\" ...\n",
            " $ Survived   : int  0 1 1 1 0 0 0 0 1 1 ...\n"
          ]
        }
      ]
    },
    {
      "cell_type": "code",
      "source": [
        "colSums(is.na(data))"
      ],
      "metadata": {
        "colab": {
          "base_uri": "https://localhost:8080/",
          "height": 52
        },
        "id": "4iHps5QMx6_C",
        "outputId": "d68af2d9-7c2c-4e50-d390-a32d32d1b7f1"
      },
      "execution_count": 21,
      "outputs": [
        {
          "output_type": "display_data",
          "data": {
            "text/html": [
              "<style>\n",
              ".dl-inline {width: auto; margin:0; padding: 0}\n",
              ".dl-inline>dt, .dl-inline>dd {float: none; width: auto; display: inline-block}\n",
              ".dl-inline>dt::after {content: \":\\0020\"; padding-right: .5ex}\n",
              ".dl-inline>dt:not(:first-of-type) {padding-left: .5ex}\n",
              "</style><dl class=dl-inline><dt>PassengerId</dt><dd>0</dd><dt>Name</dt><dd>0</dd><dt>Pclass</dt><dd>0</dd><dt>Sex</dt><dd>0</dd><dt>Age</dt><dd>177</dd><dt>SibSp</dt><dd>0</dd><dt>Parch</dt><dd>0</dd><dt>Ticket</dt><dd>0</dd><dt>Fare</dt><dd>0</dd><dt>Cabin</dt><dd>0</dd><dt>Embarked</dt><dd>0</dd><dt>Survived</dt><dd>0</dd></dl>\n"
            ],
            "text/markdown": "PassengerId\n:   0Name\n:   0Pclass\n:   0Sex\n:   0Age\n:   177SibSp\n:   0Parch\n:   0Ticket\n:   0Fare\n:   0Cabin\n:   0Embarked\n:   0Survived\n:   0\n\n",
            "text/latex": "\\begin{description*}\n\\item[PassengerId] 0\n\\item[Name] 0\n\\item[Pclass] 0\n\\item[Sex] 0\n\\item[Age] 177\n\\item[SibSp] 0\n\\item[Parch] 0\n\\item[Ticket] 0\n\\item[Fare] 0\n\\item[Cabin] 0\n\\item[Embarked] 0\n\\item[Survived] 0\n\\end{description*}\n",
            "text/plain": [
              "PassengerId        Name      Pclass         Sex         Age       SibSp \n",
              "          0           0           0           0         177           0 \n",
              "      Parch      Ticket        Fare       Cabin    Embarked    Survived \n",
              "          0           0           0           0           0           0 "
            ]
          },
          "metadata": {}
        }
      ]
    },
    {
      "cell_type": "code",
      "source": [
        "data$Age[is.na(data$Age)] <- median(data$Age, na.rm = TRUE)"
      ],
      "metadata": {
        "id": "NSzhJRwBx9Fj"
      },
      "execution_count": 22,
      "outputs": []
    },
    {
      "cell_type": "code",
      "source": [
        "data$Embarked[is.na(data$Embarked)] <- \"S\""
      ],
      "metadata": {
        "id": "MTl3-3Hgx-ao"
      },
      "execution_count": 23,
      "outputs": []
    },
    {
      "cell_type": "code",
      "source": [
        "# Convert relevant columns to factors\n",
        "data$Survived <- factor(data$Survived, levels = c(0, 1), labels = c(\"No\", \"Yes\"))\n",
        "data$Pclass <- factor(data$Pclass)\n",
        "data$Sex <- factor(data$Sex)"
      ],
      "metadata": {
        "id": "1YdOMCSjx_i6"
      },
      "execution_count": 24,
      "outputs": []
    },
    {
      "cell_type": "code",
      "source": [
        "# Survival rate by class\n",
        "ggplot(data, aes(x = Pclass, fill = Survived)) +\n",
        "geom_bar(position = \"fill\") +\n",
        "labs(title = \"Survival Rate by Class\", y = \"Proportion\", x = \"Class\") + scale_fill_manual(values = c(\"red\", \"green\"))"
      ],
      "metadata": {
        "colab": {
          "base_uri": "https://localhost:8080/",
          "height": 437
        },
        "id": "j2GFS5r5yCfd",
        "outputId": "8833416c-b56c-42d4-a832-9a77fc4d0f49"
      },
      "execution_count": 25,
      "outputs": [
        {
          "output_type": "display_data",
          "data": {
            "text/plain": [
              "plot without title"
            ],
            "image/png": "[encoded data removed]"
          },
          "metadata": {
            "image/png": {
              "width": 420,
              "height": 420
            }
          }
        }
      ]
    }
  ]
}