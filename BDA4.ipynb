{
  "nbformat": 4,
  "nbformat_minor": 0,
  "metadata": {
    "colab": {
      "provenance": []
    },
    "kernelspec": {
      "name": "python3",
      "display_name": "Python 3"
    },
    "language_info": {
      "name": "python"
    }
  },
  "cells": [
    {
      "cell_type": "code",
      "execution_count": 1,
      "metadata": {
        "id": "Ldq6RTPG6BNp"
      },
      "outputs": [],
      "source": [
        "from pyspark.sql import SparkSession\n",
        "spark = SparkSession.builder.enableHiveSupport().getOrCreate()"
      ]
    },
    {
      "cell_type": "code",
      "source": [
        "spark.sql(\"CREATE TABLE IF NOT EXISTS products(product_id INT, product_name STRING, price FLOAT)\")"
      ],
      "metadata": {
        "colab": {
          "base_uri": "https://localhost:8080/"
        },
        "id": "8CQTHUGI6F2F",
        "outputId": "7ebbda8c-1dbe-47da-f220-0806f5e97ebe"
      },
      "execution_count": 2,
      "outputs": [
        {
          "output_type": "execute_result",
          "data": {
            "text/plain": [
              "DataFrame[]"
            ]
          },
          "metadata": {},
          "execution_count": 2
        }
      ]
    },
    {
      "cell_type": "code",
      "source": [
        "spark.sql(\"INSERT INTO products VALUES (1, 'apple', 130), (2, 'pen', 25), (3, 'bread', 30), (4,'butter', 60), (5, 'jam', 35)\")"
      ],
      "metadata": {
        "colab": {
          "base_uri": "https://localhost:8080/"
        },
        "id": "UfEmRAQD6MLj",
        "outputId": "60088698-4cdf-44be-f483-b85f1da4fd50"
      },
      "execution_count": 3,
      "outputs": [
        {
          "output_type": "execute_result",
          "data": {
            "text/plain": [
              "DataFrame[]"
            ]
          },
          "metadata": {},
          "execution_count": 3
        }
      ]
    },
    {
      "cell_type": "code",
      "source": [
        "spark.sql(\"SELECT AVG(price) from products\").show()\n",
        "spark.sql(\"SELECT * FROM products ORDER BY price DESC;\").show()\n",
        "spark.sql(\"SELECT product_name, price FROM products ORDER BY price DESC LIMIT 1\").show()"
      ],
      "metadata": {
        "colab": {
          "base_uri": "https://localhost:8080/"
        },
        "id": "j5PMgjND6Qp9",
        "outputId": "84a1057a-8eba-4409-bcc2-0429cc74caac"
      },
      "execution_count": 4,
      "outputs": [
        {
          "output_type": "stream",
          "name": "stdout",
          "text": [
            "+----------+\n",
            "|avg(price)|\n",
            "+----------+\n",
            "|      56.0|\n",
            "+----------+\n",
            "\n",
            "+----------+------------+-----+\n",
            "|product_id|product_name|price|\n",
            "+----------+------------+-----+\n",
            "|         1|       apple|130.0|\n",
            "|         4|      butter| 60.0|\n",
            "|         5|         jam| 35.0|\n",
            "|         3|       bread| 30.0|\n",
            "|         2|         pen| 25.0|\n",
            "+----------+------------+-----+\n",
            "\n",
            "+------------+-----+\n",
            "|product_name|price|\n",
            "+------------+-----+\n",
            "|       apple|130.0|\n",
            "+------------+-----+\n",
            "\n"
          ]
        }
      ]
    },
    {
      "cell_type": "code",
      "source": [
        "spark.sql(\"\"\"\n",
        "SELECT DISTINCT product_name, price\n",
        "FROM products\n",
        "ORDER BY price DESC\n",
        "LIMIT 1 OFFSET 1\n",
        "\"\"\").show()"
      ],
      "metadata": {
        "colab": {
          "base_uri": "https://localhost:8080/"
        },
        "id": "qB62xeHq6Shr",
        "outputId": "47ad5e06-423d-441e-bd25-5e9c5bc62faf"
      },
      "execution_count": 6,
      "outputs": [
        {
          "output_type": "stream",
          "name": "stdout",
          "text": [
            "+------------+-----+\n",
            "|product_name|price|\n",
            "+------------+-----+\n",
            "|      butter| 60.0|\n",
            "+------------+-----+\n",
            "\n"
          ]
        }
      ]
    }
  ]
}